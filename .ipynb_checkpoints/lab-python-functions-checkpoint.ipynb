{
 "cells": [
  {
   "cell_type": "markdown",
   "id": "25d7736c-ba17-4aff-b6bb-66eba20fbf4e",
   "metadata": {},
   "source": [
    "# Lab | Functions"
   ]
  },
  {
   "cell_type": "markdown",
   "id": "0c581062-8967-4d93-b06e-62833222f930",
   "metadata": {
    "tags": []
   },
   "source": [
    "## Exercise: Managing Customer Orders with Functions\n",
    "\n",
    "In the previous exercise, you improved the code for managing customer orders by using loops and flow control. Now, let's take it a step further and refactor the code by introducing functions.\n",
    "\n",
    "Follow the steps below to complete the exercise:\n",
    "\n",
    "1. Define a function named `initialize_inventory` that takes `products` as a parameter. Inside the function, implement the code for initializing the inventory dictionary using a loop and user input.\n",
    "\n",
    "2. Define a function named `get_customer_orders` that takes no parameters. Inside the function, implement the code for prompting the user to enter the product names using a loop. The function should return the `customer_orders` set.\n",
    "\n",
    "3. Define a function named `update_inventory` that takes `customer_orders` and `inventory` as parameters. Inside the function, implement the code for updating the inventory dictionary based on the customer orders.\n",
    "\n",
    "4. Define a function named `calculate_order_statistics` that takes `customer_orders` and `products` as parameters. Inside the function, implement the code for calculating the order statistics (total products ordered, and percentage of unique products ordered). The function should return these values.\n",
    "\n",
    "5. Define a function named `print_order_statistics` that takes `order_statistics` as a parameter. Inside the function, implement the code for printing the order statistics.\n",
    "\n",
    "6. Define a function named `print_updated_inventory` that takes `inventory` as a parameter. Inside the function, implement the code for printing the updated inventory.\n",
    "\n",
    "7. Call the functions in the appropriate sequence to execute the program and manage customer orders.\n",
    "\n",
    "Hints for functions:\n",
    "\n",
    "- Consider the input parameters required for each function and their return values.\n",
    "- Utilize function parameters and return values to transfer data between functions.\n",
    "- Test your functions individually to ensure they work correctly.\n",
    "\n",
    "\n"
   ]
  },
  {
   "cell_type": "code",
   "execution_count": 25,
   "id": "eb997e33-1ba2-48fc-862e-e8ac447650db",
   "metadata": {},
   "outputs": [],
   "source": [
    "products=[\"t-shirt\", \"mug\", \"hat\", \"book\", \"keychain\"]#Creation of a list named products with 5 items."
   ]
  },
  {
   "cell_type": "code",
   "execution_count": null,
   "id": "bbb1ecea-dfc3-4d93-b1d9-ae778695b9b8",
   "metadata": {},
   "outputs": [],
   "source": [
    "#Define the 6 functions and call them"
   ]
  },
  {
   "cell_type": "code",
   "execution_count": null,
   "id": "538c20e5-5af6-4015-a705-e7b7ba711bbd",
   "metadata": {},
   "outputs": [],
   "source": [
    "#initialize_inventory function takes products as a parameter. \n",
    "#Inside the function, implement the code for initializing the inventory dictionary using a loop and user input."
   ]
  },
  {
   "cell_type": "code",
   "execution_count": null,
   "id": "7ea21d92-2799-4670-8b34-acade856b409",
   "metadata": {},
   "outputs": [],
   "source": [
    "#get_customer_orders function takes no parameters. \n",
    "#Inside the function, prompting the user to enter the names of the products using a loop. \n",
    "#The function should return the customer_orders set."
   ]
  },
  {
   "cell_type": "code",
   "execution_count": null,
   "id": "e6920509-d251-4048-a0bb-99e01df41849",
   "metadata": {},
   "outputs": [],
   "source": [
    "#update_inventory takes customer_orders and inventory as parameters. \n",
    "#Inside the function, implement the code for updating the inventory dictionary based on the customer orders."
   ]
  },
  {
   "cell_type": "code",
   "execution_count": null,
   "id": "cb433dd0-fd53-464f-8c61-bee0e6686f5f",
   "metadata": {},
   "outputs": [],
   "source": [
    "#calculate_order_statistics that takes customer_orders and products as parameters. \n",
    "#Inside the function, calculating the order statistics \n",
    "#(total products ordered, and percentage of unique products ordered). \n",
    "#The function should return these values."
   ]
  },
  {
   "cell_type": "code",
   "execution_count": null,
   "id": "f13e25de-75e6-4b03-a97c-4fefbd1d621b",
   "metadata": {},
   "outputs": [],
   "source": [
    "#print_order_statistics takes order_statistics as a parameter. \n",
    "#Inside the function, printing the order statistics."
   ]
  },
  {
   "cell_type": "code",
   "execution_count": null,
   "id": "18fb8d31-8213-4f10-af24-15c193c9bf2a",
   "metadata": {},
   "outputs": [],
   "source": [
    "#print_updated_inventory takes inventory as a parameter. \n",
    "#Inside the function, printing the updated inventory."
   ]
  },
  {
   "cell_type": "code",
   "execution_count": 27,
   "id": "ed52dad2-c67b-4f7f-a94a-36b0fb8b33e0",
   "metadata": {},
   "outputs": [],
   "source": [
    "def initialize_inventory(products):\n",
    "    inventory = {}\n",
    "    for product in products:\n",
    "        quantity = int(input(f\"Type the quantity of {product}: \"))\n",
    "        inventory[product] = quantity\n",
    "    return inventory\n"
   ]
  },
  {
   "cell_type": "code",
   "execution_count": 29,
   "id": "5c679bda-f654-4759-81aa-bb25a9ce9138",
   "metadata": {},
   "outputs": [],
   "source": [
    "def get_customer_orders():\n",
    "    customer_orders = set()\n",
    "    while True:\n",
    "        product = input(\"Enter the name of the product you want to order: \")\n",
    "        customer_orders.add(product)\n",
    "        another_product = input(\"Do you want to add another product? (yes or no): \")\n",
    "        if another_product.lower() != \"yes\":\n",
    "            break\n",
    "    return customer_orders\n"
   ]
  },
  {
   "cell_type": "code",
   "execution_count": 62,
   "id": "950078cd-8b39-488c-a65b-2c6357b8be94",
   "metadata": {},
   "outputs": [],
   "source": [
    "def update_inventory(customer_orders, inventory):\n",
    "    for product in customer_orders:\n",
    "        if product in inventory:\n",
    "            inventory[product] -= 1"
   ]
  },
  {
   "cell_type": "code",
   "execution_count": 33,
   "id": "5d478e0e-898d-4a00-8358-2c0f41a60d4c",
   "metadata": {},
   "outputs": [],
   "source": [
    "def calculate_order_statistics(customer_orders, products):\n",
    "    total_products_ordered = len(customer_orders)\n",
    "    total_available_products = len(products)\n",
    "    percentage_of_products_ordered = (total_products_ordered / total_available_products) * 100\n",
    "    return total_products_ordered, percentage_of_products_ordered\n"
   ]
  },
  {
   "cell_type": "code",
   "execution_count": 35,
   "id": "c2e36a47-7bdc-41dd-a1ec-a0fd041c6993",
   "metadata": {},
   "outputs": [],
   "source": [
    "def print_order_statistics(order_statistics):\n",
    "    print(\"\\nOrder Statistics:\")\n",
    "    print(f\"Total Products Ordered: {order_statistics[0]}\")\n",
    "    print(f\"Percentage of Products Ordered: {order_statistics[1]}%\")\n"
   ]
  },
  {
   "cell_type": "code",
   "execution_count": 39,
   "id": "6a9f0dc6-501c-4535-9a1e-625783d9f02c",
   "metadata": {},
   "outputs": [],
   "source": [
    "def print_updated_inventory(inventory):\n",
    "    print(\"\\nUpdated Inventory:\")\n",
    "    for product, quantity in inventory.items():\n",
    "        print(f\"{product}: {quantity}\")\n"
   ]
  },
  {
   "cell_type": "code",
   "execution_count": null,
   "id": "116ccb69-70fb-4cda-a86c-582280432d80",
   "metadata": {},
   "outputs": [],
   "source": [
    "#Call the 6 functions"
   ]
  },
  {
   "cell_type": "code",
   "execution_count": 41,
   "id": "a334f391-eb73-49f3-8e15-55cf9976d84c",
   "metadata": {},
   "outputs": [
    {
     "name": "stdin",
     "output_type": "stream",
     "text": [
      "Enter the quantity of t-shirt:  1\n",
      "Enter the quantity of mug:  2\n",
      "Enter the quantity of hat:  3\n",
      "Enter the quantity of book:  4\n",
      "Enter the quantity of keychain:  5\n"
     ]
    }
   ],
   "source": [
    "inventory = initialize_inventory(products)"
   ]
  },
  {
   "cell_type": "code",
   "execution_count": 43,
   "id": "7655d264-7f8d-4933-bfb3-ac8eb0c24b02",
   "metadata": {},
   "outputs": [
    {
     "name": "stdin",
     "output_type": "stream",
     "text": [
      "Enter the name of the product you want to order:  hat\n",
      "Do you want to add another product? (yes or no):  yes\n",
      "Enter the name of the product you want to order:  keychain\n",
      "Do you want to add another product? (yes or no):  yes\n",
      "Enter the name of the product you want to order:  sweat\n",
      "Do you want to add another product? (yes or no):  yes\n",
      "Enter the name of the product you want to order:  trousers\n",
      "Do you want to add another product? (yes or no):  no\n"
     ]
    }
   ],
   "source": [
    "customer_orders = get_customer_orders()"
   ]
  },
  {
   "cell_type": "code",
   "execution_count": 45,
   "id": "1474a17e-a8a9-4ec5-8914-0b1bf7222365",
   "metadata": {},
   "outputs": [],
   "source": [
    "update_inventory(customer_orders, inventory)"
   ]
  },
  {
   "cell_type": "code",
   "execution_count": 55,
   "id": "33fa5225-b01e-4040-9964-4d95a8bd8e99",
   "metadata": {},
   "outputs": [],
   "source": [
    "order_statistics=calculate_order_statistics(customer_orders, products)"
   ]
  },
  {
   "cell_type": "code",
   "execution_count": 51,
   "id": "aa56add2-df5d-47a8-9e96-cc73ee565410",
   "metadata": {},
   "outputs": [
    {
     "name": "stdout",
     "output_type": "stream",
     "text": [
      "\n",
      "Order Statistics:\n",
      "Total Products Ordered: 4\n",
      "Percentage of Products Ordered: 80.0%\n"
     ]
    }
   ],
   "source": [
    "print_order_statistics(order_statistics)"
   ]
  },
  {
   "cell_type": "code",
   "execution_count": 53,
   "id": "26570a98-a8b0-4e2f-aae8-ee5c197e678c",
   "metadata": {},
   "outputs": [
    {
     "name": "stdout",
     "output_type": "stream",
     "text": [
      "\n",
      "Updated Inventory:\n",
      "t-shirt: 1\n",
      "mug: 2\n",
      "hat: 2\n",
      "book: 4\n",
      "keychain: 4\n"
     ]
    }
   ],
   "source": [
    "print_updated_inventory(inventory)"
   ]
  },
  {
   "cell_type": "code",
   "execution_count": null,
   "id": "296967fc-1963-4904-b3c9-ae1a7596e64b",
   "metadata": {},
   "outputs": [],
   "source": []
  }
 ],
 "metadata": {
  "kernelspec": {
   "display_name": "Python 3 (ipykernel)",
   "language": "python",
   "name": "python3"
  },
  "language_info": {
   "codemirror_mode": {
    "name": "ipython",
    "version": 3
   },
   "file_extension": ".py",
   "mimetype": "text/x-python",
   "name": "python",
   "nbconvert_exporter": "python",
   "pygments_lexer": "ipython3",
   "version": "3.11.7"
  }
 },
 "nbformat": 4,
 "nbformat_minor": 5
}
